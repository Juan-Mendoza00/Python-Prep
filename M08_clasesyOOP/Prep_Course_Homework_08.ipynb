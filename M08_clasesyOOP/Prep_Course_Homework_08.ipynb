{
 "cells": [
  {
   "attachments": {},
   "cell_type": "markdown",
   "metadata": {},
   "source": [
    "## Clases y Programación Orientada a Objetos"
   ]
  },
  {
   "attachments": {},
   "cell_type": "markdown",
   "metadata": {},
   "source": [
    "1) Crear la clase vehículo que contenga los atributos:<br>\n",
    "Color<br>\n",
    "Si es moto, auto, camioneta ó camión<br>\n",
    "Cilindrada del motor"
   ]
  },
  {
   "cell_type": "code",
   "execution_count": 2,
   "metadata": {},
   "outputs": [],
   "source": [
    "class Vehiculo:\n",
    "    def __init__(self, color, tipo, cilindraje):\n",
    "        self.color = color\n",
    "        self.tip = tipo\n",
    "        self.cilindraje = cilindraje"
   ]
  },
  {
   "attachments": {},
   "cell_type": "markdown",
   "metadata": {},
   "source": [
    "2) A la clase Vehiculo creada en el punto 1, agregar los siguientes métodos:<br>\n",
    "Acelerar<br>\n",
    "Frenar<br>\n",
    "Doblar<br>"
   ]
  },
  {
   "cell_type": "code",
   "execution_count": 6,
   "metadata": {},
   "outputs": [],
   "source": [
    "class Vehiculo:\n",
    "    def __init__(self, color, tipo, cilindraje):\n",
    "        self.color = color\n",
    "        self.tip = tipo\n",
    "        self.cilindraje = cilindraje\n",
    "        self.velocidad = 0\n",
    "        self.direccion = 0\n",
    "\n",
    "    def Acelerar(self, vel):\n",
    "        self.velocidad += vel\n",
    "\n",
    "    def Frenar(self, vel):\n",
    "         self.velocidad -= vel\n",
    "\n",
    "    def Doblar(self, dir, degrees):\n",
    "        if dir == 'izquierda':\n",
    "            self.direccion -= degrees\n",
    "        elif dir == 'derecha':\n",
    "            self.direccion += degrees"
   ]
  },
  {
   "attachments": {},
   "cell_type": "markdown",
   "metadata": {},
   "source": [
    "3) Instanciar 3 objetos de la clase vehículo y ejecutar sus métodos, probar luego el resultado"
   ]
  },
  {
   "cell_type": "code",
   "execution_count": 7,
   "metadata": {},
   "outputs": [],
   "source": [
    "carro = Vehiculo('blanco', 'carro', 1200 )\n",
    "moto = Vehiculo('rojo', 'moto', 250)\n",
    "camioneta = Vehiculo('gris', 'camioneta', 2000)\n",
    "\n",
    "carro.Acelerar(70)\n",
    "carro.Doblar('izquierda', 90)\n",
    "\n",
    "moto.Acelerar(80)\n",
    "moto.Doblar('derecha', 180)\n",
    "\n",
    "camioneta.Acelerar(100)\n",
    "camioneta.Doblar('derecha', 90)\n"
   ]
  },
  {
   "cell_type": "code",
   "execution_count": 8,
   "metadata": {},
   "outputs": [
    {
     "data": {
      "text/plain": [
       "70"
      ]
     },
     "execution_count": 8,
     "metadata": {},
     "output_type": "execute_result"
    }
   ],
   "source": [
    "carro.velocidad"
   ]
  },
  {
   "attachments": {},
   "cell_type": "markdown",
   "metadata": {},
   "source": [
    "4) Agregar a la clase Vehiculo, un método que muestre su estado, es decir, a que velocidad se encuentra y su dirección. Y otro método que muestre color, tipo y cilindrada"
   ]
  },
  {
   "cell_type": "code",
   "execution_count": 9,
   "metadata": {},
   "outputs": [],
   "source": [
    "class Vehiculo:\n",
    "    def __init__(self, color, tipo, cilindraje):\n",
    "        self.color = color\n",
    "        self.tipo = tipo\n",
    "        self.cilindraje = cilindraje\n",
    "        self.velocidad = 0\n",
    "        self.direccion = 0\n",
    "\n",
    "    def Acelerar(self, vel):\n",
    "        self.velocidad += vel\n",
    "\n",
    "    def Frenar(self, vel):\n",
    "         self.velocidad -= vel\n",
    "\n",
    "    def Doblar(self, dir, degrees):\n",
    "        if dir == 'izquierda':\n",
    "            self.direccion -= degrees\n",
    "        elif dir == 'derecha':\n",
    "            self.direccion += degrees\n",
    "\n",
    "    def Estado(self):\n",
    "        print(f'Voy a {self.velocidad} km/h en dirección {self.direccion}')\n",
    "\n",
    "    def Info(self):\n",
    "        print(f'{self.tipo.title()} de color {self.color} y cilindraje {self.cilindraje} cc.')\n",
    "        "
   ]
  },
  {
   "cell_type": "code",
   "execution_count": 11,
   "metadata": {},
   "outputs": [],
   "source": [
    "carro_2 = Vehiculo('negro', 'carro', 1600)\n",
    "carro_2.Acelerar(110)\n",
    "carro_2.Doblar('izquierda', 90)"
   ]
  },
  {
   "cell_type": "code",
   "execution_count": 12,
   "metadata": {},
   "outputs": [
    {
     "name": "stdout",
     "output_type": "stream",
     "text": [
      "Voy a 110 km/h en dirección -90\n"
     ]
    }
   ],
   "source": [
    "carro_2.Estado()"
   ]
  },
  {
   "cell_type": "code",
   "execution_count": 13,
   "metadata": {},
   "outputs": [
    {
     "name": "stdout",
     "output_type": "stream",
     "text": [
      "Carro de color negro y cilindraje 1600 cc.\n"
     ]
    }
   ],
   "source": [
    "carro_2.Info()"
   ]
  },
  {
   "attachments": {},
   "cell_type": "markdown",
   "metadata": {},
   "source": [
    "5) Crear una clase que permita utilizar las funciones creadas en la práctica del módulo 7<br>\n",
    "Verificar Primo<br>\n",
    "Valor modal<br>\n",
    "Conversión grados<br>\n",
    "Factorial<br>"
   ]
  },
  {
   "cell_type": "code",
   "execution_count": 16,
   "metadata": {},
   "outputs": [],
   "source": [
    "class Utils:\n",
    "    def __init__(self) -> None:\n",
    "        pass\n",
    "    def primo(self, n):\n",
    "        for i in range(2,n):\n",
    "            if n%i == 0:\n",
    "                return False\n",
    "        return True\n",
    "    def mas_rep(self, lista):\n",
    "        result = 0\n",
    "        times = 0\n",
    "        for i in lista:\n",
    "            if lista.count(i) > times:\n",
    "                result = i\n",
    "                times = lista.count(i)\n",
    "        return f'Más repetido: {result} --> {times} veces.'\n",
    "    def convert_degrees(self, value, scale, transform_to):\n",
    "        celsius_to_kelvin = lambda x: x + 273.15\n",
    "        celsius_to_faren = lambda x: (x * (9/5)) + 32\n",
    "        kelvin_to_celsius = lambda x: x - 273.15\n",
    "        faren_to_celsius = lambda x: (5*(x-32))/9\n",
    "\n",
    "        if scale == 'celsius' and transform_to == 'kelvin':\n",
    "            result = celsius_to_kelvin(value)\n",
    "        elif  scale == 'celsius' and transform_to == 'farenheit':\n",
    "            result = celsius_to_faren(value)\n",
    "        elif scale == 'kelvin' and transform_to == 'celsius':\n",
    "            result = kelvin_to_celsius(value)\n",
    "        elif scale == 'kelvin' and transform_to == 'farenheit': # Anido las funciones lambda; Paso primero a celsius y luego a la escala que necesite.\n",
    "            result = celsius_to_faren(kelvin_to_celsius(value))\n",
    "        elif scale == 'farenheit' and transform_to == 'celsius':\n",
    "            result = faren_to_celsius(value)\n",
    "        elif scale == 'farenheit' and transform_to == 'kelvin':# Anido las funciones lambda; Paso primero a celsius y luego a la escala que necesite.\n",
    "            result = celsius_to_kelvin(faren_to_celsius(value))\n",
    "        elif scale == transform_to:\n",
    "            result = value\n",
    "        else:\n",
    "            result = 'Parámetro de origen o destino no permitido.'\n",
    "        \n",
    "        return f'{value} grados {scale} son {result} grados {transform_to}'\n",
    "    def factorial(self, n):\n",
    "        if n > 1 and type(n) == int:\n",
    "            n = n * self.factorial(n-1)\n",
    "        return n"
   ]
  },
  {
   "attachments": {},
   "cell_type": "markdown",
   "metadata": {},
   "source": [
    "6) Probar las funciones incorporadas en la clase del punto 5"
   ]
  },
  {
   "cell_type": "code",
   "execution_count": 17,
   "metadata": {},
   "outputs": [
    {
     "name": "stdout",
     "output_type": "stream",
     "text": [
      "120\n",
      "True\n",
      "Más repetido: 5 --> 8 veces.\n",
      "39 grados celsius son 102.2 grados farenheit\n"
     ]
    }
   ],
   "source": [
    "utils = Utils()\n",
    "print(utils.factorial(5))\n",
    "print(utils.primo(17))\n",
    "print(utils.mas_rep([1,1,1,2,5,3,6,5,5,5,9,8,7,8,9,9,8,6,5,8,5,4,4,4,5,5]))\n",
    "print(utils.convert_degrees(39,'celsius','farenheit'))"
   ]
  },
  {
   "attachments": {},
   "cell_type": "markdown",
   "metadata": {},
   "source": [
    "7) Es necesario que la clase creada en el punto 5 contenga una lista, sobre la cual se apliquen las funciones incorporadas"
   ]
  },
  {
   "cell_type": "code",
   "execution_count": 18,
   "metadata": {},
   "outputs": [],
   "source": [
    "class Utils:\n",
    "    def __init__(self, lista):\n",
    "        self.lista = lista\n",
    "\n",
    "    def __primo(self, n):\n",
    "        for i in range(2,n):\n",
    "            if n%i == 0:\n",
    "                return False\n",
    "        return True\n",
    "    \n",
    "    def mas_rep(self):\n",
    "        result = 0\n",
    "        times = 0\n",
    "        for i in self.lista:\n",
    "            if self.lista.count(i) > times:\n",
    "                result = i\n",
    "                times = self.lista.count(i)\n",
    "        return f'Más repetido: {result} --> {times} veces.'\n",
    "    \n",
    "    def __convert_degrees(self, value, scale, transform_to):\n",
    "        celsius_to_kelvin = lambda x: x + 273.15\n",
    "        celsius_to_faren = lambda x: (x * (9/5)) + 32\n",
    "        kelvin_to_celsius = lambda x: x - 273.15\n",
    "        faren_to_celsius = lambda x: (5*(x-32))/9\n",
    "\n",
    "        if scale == 'celsius' and transform_to == 'kelvin':\n",
    "            result = celsius_to_kelvin(value)\n",
    "        elif  scale == 'celsius' and transform_to == 'farenheit':\n",
    "            result = celsius_to_faren(value)\n",
    "        elif scale == 'kelvin' and transform_to == 'celsius':\n",
    "            result = kelvin_to_celsius(value)\n",
    "        elif scale == 'kelvin' and transform_to == 'farenheit': # Anido las funciones lambda; Paso primero a celsius y luego a la escala que necesite.\n",
    "            result = celsius_to_faren(kelvin_to_celsius(value))\n",
    "        elif scale == 'farenheit' and transform_to == 'celsius':\n",
    "            result = faren_to_celsius(value)\n",
    "        elif scale == 'farenheit' and transform_to == 'kelvin':# Anido las funciones lambda; Paso primero a celsius y luego a la escala que necesite.\n",
    "            result = celsius_to_kelvin(faren_to_celsius(value))\n",
    "        elif scale == transform_to:\n",
    "            result = value\n",
    "        else:\n",
    "            result = 'Parámetro de origen o destino no permitido.'\n",
    "        \n",
    "        return f'{value} grados {scale} son {result} grados {transform_to}'\n",
    "    \n",
    "    def __factorial(self, n):\n",
    "        if n > 1 and type(n) == int:\n",
    "            n = n * self.__factorial(n-1)\n",
    "        return n\n",
    "    \n",
    "    def factorial(self):\n",
    "        for i in self.lista:\n",
    "            print(self.__factorial(i))\n",
    "\n",
    "    def convert_degrees(self, scale, descale):\n",
    "        for i in self.lista:\n",
    "            print(self.__convert_degrees(i,scale,descale))\n",
    "\n",
    "    def is_prime(self):\n",
    "        for i in self.lista:\n",
    "            if self.__primo(i):\n",
    "                print('Primo')\n",
    "            else:\n",
    "                print('No Primo')\n"
   ]
  },
  {
   "cell_type": "code",
   "execution_count": 20,
   "metadata": {},
   "outputs": [],
   "source": [
    "utils = Utils([1,1,2,3,4,5,5,5,5,6,7,8,9])"
   ]
  },
  {
   "cell_type": "code",
   "execution_count": 22,
   "metadata": {},
   "outputs": [
    {
     "name": "stdout",
     "output_type": "stream",
     "text": [
      "1 grados celsius son 274.15 grados kelvin\n",
      "1 grados celsius son 274.15 grados kelvin\n",
      "2 grados celsius son 275.15 grados kelvin\n",
      "3 grados celsius son 276.15 grados kelvin\n",
      "4 grados celsius son 277.15 grados kelvin\n",
      "5 grados celsius son 278.15 grados kelvin\n",
      "5 grados celsius son 278.15 grados kelvin\n",
      "5 grados celsius son 278.15 grados kelvin\n",
      "5 grados celsius son 278.15 grados kelvin\n",
      "6 grados celsius son 279.15 grados kelvin\n",
      "7 grados celsius son 280.15 grados kelvin\n",
      "8 grados celsius son 281.15 grados kelvin\n",
      "9 grados celsius son 282.15 grados kelvin\n"
     ]
    }
   ],
   "source": [
    "utils.convert_degrees('celsius','kelvin')"
   ]
  },
  {
   "attachments": {},
   "cell_type": "markdown",
   "metadata": {},
   "source": [
    "8) Crear un archivo .py aparte y ubicar allí la clase generada en el punto anterior. Luego realizar la importación del módulo y probar alguna de sus funciones"
   ]
  },
  {
   "cell_type": "code",
   "execution_count": 23,
   "metadata": {},
   "outputs": [],
   "source": [
    "from utils import Utils"
   ]
  },
  {
   "cell_type": "code",
   "execution_count": 24,
   "metadata": {},
   "outputs": [],
   "source": [
    "funcs = Utils([1,1,2,3,3,4,5,3])"
   ]
  },
  {
   "cell_type": "code",
   "execution_count": 25,
   "metadata": {},
   "outputs": [
    {
     "name": "stdout",
     "output_type": "stream",
     "text": [
      "1 grados farenheit son 255.92777777777775 grados kelvin\n",
      "1 grados farenheit son 255.92777777777775 grados kelvin\n",
      "2 grados farenheit son 256.4833333333333 grados kelvin\n",
      "3 grados farenheit son 257.0388888888889 grados kelvin\n",
      "3 grados farenheit son 257.0388888888889 grados kelvin\n",
      "4 grados farenheit son 257.59444444444443 grados kelvin\n",
      "5 grados farenheit son 258.15 grados kelvin\n",
      "3 grados farenheit son 257.0388888888889 grados kelvin\n"
     ]
    }
   ],
   "source": [
    "funcs.convert_degrees('farenheit', 'kelvin')"
   ]
  }
 ],
 "metadata": {
  "interpreter": {
   "hash": "c85384e4cb51c8b72350f3a8712cc8351fdc3955e32a27f9b60c6242ab125f01"
  },
  "kernelspec": {
   "display_name": "Python 3 (ipykernel)",
   "language": "python",
   "name": "python3"
  },
  "language_info": {
   "codemirror_mode": {
    "name": "ipython",
    "version": 3
   },
   "file_extension": ".py",
   "mimetype": "text/x-python",
   "name": "python",
   "nbconvert_exporter": "python",
   "pygments_lexer": "ipython3",
   "version": "3.11.5"
  }
 },
 "nbformat": 4,
 "nbformat_minor": 4
}
