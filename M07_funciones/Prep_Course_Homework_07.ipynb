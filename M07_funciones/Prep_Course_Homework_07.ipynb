{
 "cells": [
  {
   "attachments": {},
   "cell_type": "markdown",
   "metadata": {},
   "source": [
    "## Funciones"
   ]
  },
  {
   "attachments": {},
   "cell_type": "markdown",
   "metadata": {},
   "source": [
    "1) Crear una función que reciba un número como parámetro y devuelva True si es primo y False si no lo es"
   ]
  },
  {
   "cell_type": "code",
   "execution_count": 3,
   "metadata": {
    "tags": []
   },
   "outputs": [
    {
     "data": {
      "text/plain": [
       "False"
      ]
     },
     "execution_count": 3,
     "metadata": {},
     "output_type": "execute_result"
    }
   ],
   "source": [
    "def primo(n):\n",
    "    for i in range(2,n):\n",
    "        if n%i == 0:\n",
    "            return False\n",
    "    return True\n",
    "primo(9)"
   ]
  },
  {
   "attachments": {},
   "cell_type": "markdown",
   "metadata": {},
   "source": [
    "2) Utilizando la función del punto 1, realizar otra función que reciba de parámetro una lista de números y devuelva sólo aquellos que son primos en otra lista"
   ]
  },
  {
   "cell_type": "code",
   "execution_count": 5,
   "metadata": {},
   "outputs": [
    {
     "data": {
      "text/plain": [
       "[0, 1, 2, 3, 5, 7, 11, 13, 17, 19, 23, 29]"
      ]
     },
     "execution_count": 5,
     "metadata": {},
     "output_type": "execute_result"
    }
   ],
   "source": [
    "def primos_lista(lista):\n",
    "    return [numero for numero in lista if primo(numero)]\n",
    "\n",
    "lista = [i for i in range(31)] # Lista de numeros 0-30\n",
    " \n",
    "primos_lista(lista) # Numeros primos del 0 al 30"
   ]
  },
  {
   "attachments": {},
   "cell_type": "markdown",
   "metadata": {},
   "source": [
    "3) Crear una función que al recibir una lista de números, devuelva el que más se repite y cuántas veces lo hace. Si hay más de un \"más repetido\", que devuelva cualquiera"
   ]
  },
  {
   "cell_type": "code",
   "execution_count": 17,
   "metadata": {},
   "outputs": [
    {
     "data": {
      "text/plain": [
       "'Más repetido: 5 --> 4 veces.'"
      ]
     },
     "execution_count": 17,
     "metadata": {},
     "output_type": "execute_result"
    }
   ],
   "source": [
    "def mas_rep(lista):\n",
    "    result = 0\n",
    "    times = 0\n",
    "    for i in lista:\n",
    "        if lista.count(i) > times:\n",
    "            result = i\n",
    "            times = lista.count(i)\n",
    "    return f'Más repetido: {result} --> {times} veces.'\n",
    "\n",
    "n = [0, 1, 2, 3, 5, 7, 11, 13, 17, 19, 23, 29, 0, 4 , 1, 1, 7, 5, 5, 5]\n",
    "mas_rep(n)"
   ]
  },
  {
   "attachments": {},
   "cell_type": "markdown",
   "metadata": {},
   "source": [
    "4) Crear una función que convierta entre grados Celsius, Farenheit y Kelvin<br>\n",
    "Fórmula 1\t: (°C × 9/5) + 32 = °F<br>\n",
    "Fórmula 2\t: °C + 273.15 = °K<br>\n",
    "Debe recibir 3 parámetros: el valor, la medida de orígen y la medida de destino\n"
   ]
  },
  {
   "cell_type": "code",
   "execution_count": 31,
   "metadata": {},
   "outputs": [
    {
     "data": {
      "text/plain": [
       "-457.86999999999995"
      ]
     },
     "execution_count": 31,
     "metadata": {},
     "output_type": "execute_result"
    }
   ],
   "source": [
    "def convert_degrees(value, scale, transform_to):\n",
    "    celsius_to_kelvin = lambda x: x + 273.15\n",
    "    celsius_to_faren = lambda x: (x * (9/5)) + 32\n",
    "    kelvin_to_celsius = lambda x: x - 273.15\n",
    "    faren_to_celsius = lambda x: (5*(x-32))/9\n",
    "\n",
    "    if scale == 'celsius' and transform_to == 'kelvin':\n",
    "        result = celsius_to_kelvin(value)\n",
    "    elif  scale == 'celsius' and transform_to == 'farenheit':\n",
    "        result = celsius_to_faren(value)\n",
    "    elif scale == 'kelvin' and transform_to == 'celsius':\n",
    "        result = kelvin_to_celsius(value)\n",
    "    elif scale == 'kelvin' and transform_to == 'farenheit': # Anido las funciones lambda; Paso primero a celsius y luego a la escala que necesite.\n",
    "        result = celsius_to_faren(kelvin_to_celsius(value))\n",
    "    elif scale == 'farenheit' and transform_to == 'celsius':\n",
    "        result = faren_to_celsius(value)\n",
    "    elif scale == 'farenheit' and transform_to == 'kelvin':# Anido las funciones lambda; Paso primero a celsius y luego a la escala que necesite.\n",
    "        result = celsius_to_kelvin(faren_to_celsius(value))\n",
    "    elif scale == transform_to:\n",
    "        result = value\n",
    "    else:\n",
    "        result = 'Parámetro de origen o destino no permitido.'\n",
    "    \n",
    "    return result\n",
    "\n",
    "convert_degrees(1, 'kelvin', 'farenheit')"
   ]
  },
  {
   "cell_type": "markdown",
   "metadata": {},
   "source": [
    "Lo que traté de hacer fué anidar las funciones lambda y así ahorrarme los calculos, ya que podía pasar siempre siempre a Celsius y de ahí a Farenheit o Kelvin"
   ]
  },
  {
   "attachments": {},
   "cell_type": "markdown",
   "metadata": {},
   "source": [
    "***\n",
    "5) Iterando una lista con los tres valores posibles de temperatura que recibe la función del punto 5, hacer un print para cada combinación de los mismos:"
   ]
  },
  {
   "cell_type": "code",
   "execution_count": 32,
   "metadata": {},
   "outputs": [
    {
     "name": "stdout",
     "output_type": "stream",
     "text": [
      "1 grado celsius equivale a 1 grados celsius\n",
      "1 grado celsius equivale a 33.8 grados farenheit\n",
      "1 grado celsius equivale a 274.15 grados kelvin\n",
      "1 grado farenheit equivale a -17.22222222222222 grados celsius\n",
      "1 grado farenheit equivale a 1 grados farenheit\n",
      "1 grado farenheit equivale a 255.92777777777775 grados kelvin\n",
      "1 grado kelvin equivale a -272.15 grados celsius\n",
      "1 grado kelvin equivale a -457.86999999999995 grados farenheit\n",
      "1 grado kelvin equivale a 1 grados kelvin\n"
     ]
    }
   ],
   "source": [
    "escalas = ['celsius', 'farenheit', 'kelvin']\n",
    "\n",
    "for i in range(len(escalas)):\n",
    "    for j in range(len(escalas)):\n",
    "        print(f'1 grado {escalas[i]} equivale a {convert_degrees(1, escalas[i], escalas[j])} grados {escalas[j]}')"
   ]
  },
  {
   "attachments": {},
   "cell_type": "markdown",
   "metadata": {},
   "source": [
    "6) Armar una función que devuelva el factorial de un número. Tener en cuenta que el usuario puede equivocarse y enviar de parámetro un número no entero o negativo"
   ]
  },
  {
   "cell_type": "code",
   "execution_count": 43,
   "metadata": {},
   "outputs": [
    {
     "name": "stdout",
     "output_type": "stream",
     "text": [
      "Digitaste mal chabon. Debe ser un número entero positivo.\n"
     ]
    }
   ],
   "source": [
    "\n",
    "def factorial(n):\n",
    "    if n > 1 and type(n) == int:\n",
    "        n = n * factorial(n-1)\n",
    "    return n\n",
    "\n",
    "def run():\n",
    "    number = int(input('Digite un numero para calcular el factorial'))\n",
    "    if type(number) == int and number > 0:\n",
    "        print('factorial de', number, 'es igual a', factorial(number))\n",
    "    else:\n",
    "        print('Digitaste mal chabon. Debe ser un número entero positivo.')\n",
    "\n",
    "run()"
   ]
  }
 ],
 "metadata": {
  "interpreter": {
   "hash": "c85384e4cb51c8b72350f3a8712cc8351fdc3955e32a27f9b60c6242ab125f01"
  },
  "kernelspec": {
   "display_name": "Python 3 (ipykernel)",
   "language": "python",
   "name": "python3"
  },
  "language_info": {
   "codemirror_mode": {
    "name": "ipython",
    "version": 3
   },
   "file_extension": ".py",
   "mimetype": "text/x-python",
   "name": "python",
   "nbconvert_exporter": "python",
   "pygments_lexer": "ipython3",
   "version": "3.11.5"
  }
 },
 "nbformat": 4,
 "nbformat_minor": 4
}
