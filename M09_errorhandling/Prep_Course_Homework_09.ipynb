{
 "cells": [
  {
   "attachments": {},
   "cell_type": "markdown",
   "metadata": {},
   "source": [
    "## Manejo de errores"
   ]
  },
  {
   "attachments": {},
   "cell_type": "markdown",
   "metadata": {},
   "source": [
    "1) Con la clase creada en el módulo 8, tener en cuenta diferentes casos en que el código pudiera arrojar error. Por ejemplo, en la creación del objeto recibimos una lista de números enteros pero ¿qué pasa si se envía otro tipo de dato?"
   ]
  },
  {
   "cell_type": "code",
   "execution_count": 6,
   "metadata": {},
   "outputs": [
    {
     "data": {
      "text/plain": [
       "['/home/juancml/Personal-Profesional/Python-Prep/M09_errorhandling',\n",
       " '/usr/lib/python311.zip',\n",
       " '/usr/lib/python3.11',\n",
       " '/usr/lib/python3.11/lib-dynload',\n",
       " '',\n",
       " '/home/juancml/.local/lib/python3.11/site-packages',\n",
       " '/usr/local/lib/python3.11/dist-packages',\n",
       " '/usr/lib/python3/dist-packages',\n",
       " '/home/juancml/Personal-Profesional/Python-Prep/M08_clasesyOOP']"
      ]
     },
     "execution_count": 6,
     "metadata": {},
     "output_type": "execute_result"
    }
   ],
   "source": [
    "import sys\n",
    "sys.path.append('/home/juancml/Personal-Profesional/Python-Prep/M08_clasesyOOP')\n",
    "sys.path"
   ]
  },
  {
   "cell_type": "code",
   "execution_count": 3,
   "metadata": {},
   "outputs": [],
   "source": [
    "import utils"
   ]
  },
  {
   "cell_type": "code",
   "execution_count": 6,
   "metadata": {},
   "outputs": [],
   "source": [
    "import importlib"
   ]
  },
  {
   "cell_type": "markdown",
   "metadata": {},
   "source": [
    "El Parámetro proporcionado no es una lista de enteros:"
   ]
  },
  {
   "cell_type": "code",
   "execution_count": 10,
   "metadata": {},
   "outputs": [],
   "source": [
    "cal = utils.Utils('algo') # No se genera ningun tipo de error. Estos van a aparecer al momento de ejecutar las funciones de la clase."
   ]
  },
  {
   "cell_type": "code",
   "execution_count": 8,
   "metadata": {},
   "outputs": [
    {
     "data": {
      "text/plain": [
       "<module 'utils' from '/home/juancml/Personal-Profesional/Python-Prep/M08_clasesyOOP/utils.py'>"
      ]
     },
     "execution_count": 8,
     "metadata": {},
     "output_type": "execute_result"
    }
   ],
   "source": [
    "importlib.reload(utils)"
   ]
  },
  {
   "cell_type": "markdown",
   "metadata": {},
   "source": [
    "Se le pasa una lista pero no es de numeros:"
   ]
  },
  {
   "cell_type": "code",
   "execution_count": 9,
   "metadata": {},
   "outputs": [
    {
     "ename": "TypeError",
     "evalue": "'>' not supported between instances of 'str' and 'int'",
     "output_type": "error",
     "traceback": [
      "\u001b[0;31m---------------------------------------------------------------------------\u001b[0m",
      "\u001b[0;31mTypeError\u001b[0m                                 Traceback (most recent call last)",
      "\u001b[1;32m/home/juancml/Personal-Profesional/Python-Prep/M09_errorhandling/Prep_Course_Homework_09.ipynb Cell 10\u001b[0m line \u001b[0;36m2\n\u001b[1;32m      <a href='vscode-notebook-cell://wsl%2Bubuntu/home/juancml/Personal-Profesional/Python-Prep/M09_errorhandling/Prep_Course_Homework_09.ipynb#X30sdnNjb2RlLXJlbW90ZQ%3D%3D?line=0'>1</a>\u001b[0m cal \u001b[39m=\u001b[39m utils\u001b[39m.\u001b[39mUtils([\u001b[39m'\u001b[39m\u001b[39mHola\u001b[39m\u001b[39m'\u001b[39m, \u001b[39m'\u001b[39m\u001b[39mMundo\u001b[39m\u001b[39m'\u001b[39m, \u001b[39m'\u001b[39m\u001b[39mSoy Juan\u001b[39m\u001b[39m'\u001b[39m])\n\u001b[0;32m----> <a href='vscode-notebook-cell://wsl%2Bubuntu/home/juancml/Personal-Profesional/Python-Prep/M09_errorhandling/Prep_Course_Homework_09.ipynb#X30sdnNjb2RlLXJlbW90ZQ%3D%3D?line=1'>2</a>\u001b[0m cal\u001b[39m.\u001b[39;49mfactorial()\n",
      "File \u001b[0;32m~/Personal-Profesional/Python-Prep/M08_clasesyOOP/utils.py:52\u001b[0m, in \u001b[0;36mUtils.factorial\u001b[0;34m(self)\u001b[0m\n\u001b[1;32m     50\u001b[0m \u001b[39mdef\u001b[39;00m \u001b[39mfactorial\u001b[39m(\u001b[39mself\u001b[39m):\n\u001b[1;32m     51\u001b[0m     lista_factoriales \u001b[39m=\u001b[39m [\u001b[39mself\u001b[39m\u001b[39m.\u001b[39m__factorial(i) \u001b[39mfor\u001b[39;00m i \u001b[39min\u001b[39;00m \u001b[39mself\u001b[39m\u001b[39m.\u001b[39mlista]\n\u001b[0;32m---> 52\u001b[0m     \u001b[39mreturn\u001b[39;00m lista_factoriales\n",
      "File \u001b[0;32m~/Personal-Profesional/Python-Prep/M08_clasesyOOP/utils.py:46\u001b[0m, in \u001b[0;36mUtils.__factorial\u001b[0;34m(self, n)\u001b[0m\n\u001b[1;32m     45\u001b[0m \u001b[39mdef\u001b[39;00m \u001b[39m__factorial\u001b[39m(\u001b[39mself\u001b[39m, n):\n\u001b[0;32m---> 46\u001b[0m     \u001b[39mif\u001b[39;00m n \u001b[39m>\u001b[39;49m \u001b[39m1\u001b[39;49m \u001b[39mand\u001b[39;00m \u001b[39mtype\u001b[39m(n) \u001b[39m==\u001b[39m \u001b[39mint\u001b[39m:\n\u001b[1;32m     47\u001b[0m         n \u001b[39m=\u001b[39m n \u001b[39m*\u001b[39m \u001b[39mself\u001b[39m\u001b[39m.\u001b[39m__factorial(n\u001b[39m-\u001b[39m\u001b[39m1\u001b[39m)\n\u001b[1;32m     48\u001b[0m     \u001b[39mreturn\u001b[39;00m n\n",
      "\u001b[0;31mTypeError\u001b[0m: '>' not supported between instances of 'str' and 'int'"
     ]
    }
   ],
   "source": [
    "cal = utils.Utils(['Hola', 'Mundo', 'Soy Juan'])\n",
    "cal.factorial()"
   ]
  },
  {
   "attachments": {},
   "cell_type": "markdown",
   "metadata": {},
   "source": [
    "2) En la función que hace la conversión de grados, validar que los parámetros enviados sean los esperados, de no serlo, informar cuáles son los valores esperados."
   ]
  },
  {
   "cell_type": "code",
   "execution_count": 12,
   "metadata": {},
   "outputs": [],
   "source": [
    "importlib.reload(utils)\n",
    "cal = utils.Utils([1,2,3])"
   ]
  },
  {
   "cell_type": "code",
   "execution_count": 13,
   "metadata": {},
   "outputs": [
    {
     "name": "stdout",
     "output_type": "stream",
     "text": [
      "hola no está dentro de los parámetros esperados.\n",
      "Los parámetros esperados son: ['celsius', 'farenheit', 'kelvin']\n"
     ]
    },
    {
     "data": {
      "text/plain": [
       "[]"
      ]
     },
     "execution_count": 13,
     "metadata": {},
     "output_type": "execute_result"
    }
   ],
   "source": [
    "cal.convert_degrees('hola', 'kelvin')"
   ]
  },
  {
   "attachments": {},
   "cell_type": "markdown",
   "metadata": {},
   "source": [
    "3) Importar el modulo \"unittest\" y crear los siguientes casos de pruebas sobre la clase utilizada en el punto 2<br>\n",
    "Creacion del objeto incorrecta<br>\n",
    "Creacion correcta del objeto<br>\n",
    "Metodo valor_modal()<br>\n",
    "\n",
    "Se puede usar \"raise ValueError()\" en la creación de la clase para verificar el error. Investigar sobre esta funcionalidad."
   ]
  },
  {
   "cell_type": "code",
   "execution_count": 7,
   "metadata": {},
   "outputs": [],
   "source": [
    "import unittest\n",
    "import utils"
   ]
  },
  {
   "cell_type": "code",
   "execution_count": 10,
   "metadata": {},
   "outputs": [],
   "source": [
    "class Testing1(unittest.TestCase):\n",
    "    \n",
    "    def test_wrongObj(self): # Caso de prueba Creacion del objeto incorrecta; Se espera que arroje un ValueError...\n",
    "        parametro = 'Cualquier cosa' # Se crea un parámetro inválido; ya sabemos que es una lista lo que recibe la clase Utils\n",
    "        self.assertRaises(ValueError, utils.Utils, parametro) # Se evalúa si se lanza la excepción correcta.\n",
    "\n",
    "    def test_correctObj(self): # Caso Creacion correcta; Queremos verificar que el objeto se crea el objeto y que toma la lista pasada como parametro.\n",
    "        parametro = [1,2,3] # Se crea el parametro que sabemos que es valido\n",
    "        calculos = utils.Utils(parametro) # Se crea el objeto con ese parámetro.\n",
    "        self.assertEqual(calculos.lista, parametro) # Sabemos que de ser un objeto diferente a una lista, retorna nulo. Por eso verifico que la lista\n",
    "                                                    # pasada como parametro y la lista alamacenada dentro del objeto sean iguales.\n",
    "\n",
    "    def test_masRep(self):\n",
    "        calculos = utils.Utils([1,1,2,3,1,3]) # Se crea el objeto con una lista\n",
    "        resultado = calculos.mas_rep() # Se ejecuta el método de valor más repetido mas_rep(), sabemos que el valor es 1 y 3 veces.\n",
    "        resultado_esperado = 'Más repetido: 1 --> 3 veces.' # En mi clase se retorna una cadena. \n",
    "        self.assertEqual(resultado, resultado_esperado) # EL resultado esperado se compara con el resultado."
   ]
  },
  {
   "cell_type": "code",
   "execution_count": 11,
   "metadata": {},
   "outputs": [
    {
     "name": "stderr",
     "output_type": "stream",
     "text": [
      "test_correctObj (__main__.Testing1.test_correctObj) ... ok\n",
      "test_masRep (__main__.Testing1.test_masRep) ... ok\n",
      "test_wrongObj (__main__.Testing1.test_wrongObj) ... ok\n",
      "\n",
      "----------------------------------------------------------------------\n",
      "Ran 3 tests in 0.006s\n",
      "\n",
      "OK\n"
     ]
    },
    {
     "data": {
      "text/plain": [
       "<unittest.main.TestProgram at 0x7f667c76e9d0>"
      ]
     },
     "execution_count": 11,
     "metadata": {},
     "output_type": "execute_result"
    }
   ],
   "source": [
    "unittest.main(argv=[''], verbosity=2, exit=False)"
   ]
  },
  {
   "attachments": {},
   "cell_type": "markdown",
   "metadata": {},
   "source": [
    "4) Probar una creación incorrecta y visualizar la salida del \"raise\""
   ]
  },
  {
   "cell_type": "code",
   "execution_count": 12,
   "metadata": {},
   "outputs": [
    {
     "ename": "ValueError",
     "evalue": "Se espera una lista como parámetro de entrada.",
     "output_type": "error",
     "traceback": [
      "\u001b[0;31m---------------------------------------------------------------------------\u001b[0m",
      "\u001b[0;31mValueError\u001b[0m                                Traceback (most recent call last)",
      "\u001b[1;32m/home/juancml/Personal-Profesional/Python-Prep/M09_errorhandling/Prep_Course_Homework_09.ipynb Cell 19\u001b[0m line \u001b[0;36m1\n\u001b[0;32m----> <a href='vscode-notebook-cell://wsl%2Bubuntu/home/juancml/Personal-Profesional/Python-Prep/M09_errorhandling/Prep_Course_Homework_09.ipynb#X22sdnNjb2RlLXJlbW90ZQ%3D%3D?line=0'>1</a>\u001b[0m cal \u001b[39m=\u001b[39m utils\u001b[39m.\u001b[39;49mUtils(\u001b[39m'\u001b[39;49m\u001b[39malgo\u001b[39;49m\u001b[39m'\u001b[39;49m)\n",
      "File \u001b[0;32m~/Personal-Profesional/Python-Prep/M08_clasesyOOP/utils.py:9\u001b[0m, in \u001b[0;36mUtils.__init__\u001b[0;34m(self, lista)\u001b[0m\n\u001b[1;32m      7\u001b[0m \u001b[39mif\u001b[39;00m \u001b[39mtype\u001b[39m(lista) \u001b[39m!=\u001b[39m \u001b[39mlist\u001b[39m:\n\u001b[1;32m      8\u001b[0m     \u001b[39mself\u001b[39m\u001b[39m.\u001b[39mlista \u001b[39m=\u001b[39m \u001b[39mNone\u001b[39;00m\n\u001b[0;32m----> 9\u001b[0m     \u001b[39mraise\u001b[39;00m \u001b[39mValueError\u001b[39;00m(\u001b[39m'\u001b[39m\u001b[39mSe espera una lista como parámetro de entrada.\u001b[39m\u001b[39m'\u001b[39m)\n\u001b[1;32m     10\u001b[0m \u001b[39melse\u001b[39;00m:\n\u001b[1;32m     11\u001b[0m     \u001b[39mself\u001b[39m\u001b[39m.\u001b[39mlista \u001b[39m=\u001b[39m lista\n",
      "\u001b[0;31mValueError\u001b[0m: Se espera una lista como parámetro de entrada."
     ]
    }
   ],
   "source": [
    "cal = utils.Utils('algo')"
   ]
  },
  {
   "attachments": {},
   "cell_type": "markdown",
   "metadata": {},
   "source": [
    "6) Agregar casos de pruebas para el método verifica_primos() realizando el cambio en la clase, para que devuelva una lista de True o False en función de que el elemento en la posisicón sea o no primo"
   ]
  },
  {
   "cell_type": "code",
   "execution_count": 13,
   "metadata": {},
   "outputs": [],
   "source": [
    "class Testing2(unittest.TestCase):\n",
    "    def test_prime(self):\n",
    "        cal = utils.Utils([1,3,4,5,7,11])\n",
    "        resultado = cal.is_prime()\n",
    "        resultado_esperado = [True, True, False, True, True, True]\n",
    "        self.assertEqual(resultado, resultado_esperado)"
   ]
  },
  {
   "cell_type": "code",
   "execution_count": 14,
   "metadata": {},
   "outputs": [
    {
     "data": {
      "text/plain": [
       "<module 'utils' from '/home/juancml/Personal-Profesional/Python-Prep/M08_clasesyOOP/utils.py'>"
      ]
     },
     "execution_count": 14,
     "metadata": {},
     "output_type": "execute_result"
    }
   ],
   "source": [
    "import importlib\n",
    "importlib.reload(utils)"
   ]
  },
  {
   "cell_type": "code",
   "execution_count": 15,
   "metadata": {},
   "outputs": [
    {
     "name": "stderr",
     "output_type": "stream",
     "text": [
      "test_correctObj (__main__.Testing1.test_correctObj) ... ok\n",
      "test_masRep (__main__.Testing1.test_masRep) ... ok\n",
      "test_wrongObj (__main__.Testing1.test_wrongObj) ... ok\n",
      "test_prime (__main__.Testing2.test_prime) ... ok\n",
      "\n",
      "----------------------------------------------------------------------\n",
      "Ran 4 tests in 0.011s\n",
      "\n",
      "OK\n"
     ]
    },
    {
     "data": {
      "text/plain": [
       "<unittest.main.TestProgram at 0x7f667c7d1310>"
      ]
     },
     "execution_count": 15,
     "metadata": {},
     "output_type": "execute_result"
    }
   ],
   "source": [
    "unittest.main(argv=[''], verbosity=2, exit=False)"
   ]
  },
  {
   "attachments": {},
   "cell_type": "markdown",
   "metadata": {},
   "source": [
    "7) Agregar casos de pruebas para el método conversion_grados()"
   ]
  },
  {
   "cell_type": "code",
   "execution_count": 16,
   "metadata": {},
   "outputs": [],
   "source": [
    "class Testing3(unittest.TestCase):\n",
    "    \n",
    "    def test_degrees(self):\n",
    "        cal = utils.Utils([0, 1, 32])\n",
    "        res = cal.convert_degrees('celsius', 'farenheit')\n",
    "        res_esp = [32, 33.8, 89.6]\n",
    "        self.assertEqual(res, res_esp)"
   ]
  },
  {
   "cell_type": "code",
   "execution_count": 17,
   "metadata": {},
   "outputs": [
    {
     "data": {
      "text/plain": [
       "<module 'utils' from '/home/juancml/Personal-Profesional/Python-Prep/M08_clasesyOOP/utils.py'>"
      ]
     },
     "execution_count": 17,
     "metadata": {},
     "output_type": "execute_result"
    }
   ],
   "source": [
    "importlib.reload(utils)"
   ]
  },
  {
   "cell_type": "code",
   "execution_count": 18,
   "metadata": {},
   "outputs": [
    {
     "name": "stderr",
     "output_type": "stream",
     "text": [
      "test_correctObj (__main__.Testing1.test_correctObj) ... ok\n",
      "test_masRep (__main__.Testing1.test_masRep) ... ok\n",
      "test_wrongObj (__main__.Testing1.test_wrongObj) ... ok\n",
      "test_prime (__main__.Testing2.test_prime) ... ok\n",
      "test_degrees (__main__.Testing3.test_degrees) ... ok\n",
      "\n",
      "----------------------------------------------------------------------\n",
      "Ran 5 tests in 0.011s\n",
      "\n",
      "OK\n"
     ]
    },
    {
     "data": {
      "text/plain": [
       "<unittest.main.TestProgram at 0x7f667c767510>"
      ]
     },
     "execution_count": 18,
     "metadata": {},
     "output_type": "execute_result"
    }
   ],
   "source": [
    "unittest.main(argv=[''], verbosity=2, exit=False)"
   ]
  },
  {
   "attachments": {},
   "cell_type": "markdown",
   "metadata": {},
   "source": [
    "8) Agregar casos de pruebas para el método factorial()"
   ]
  },
  {
   "cell_type": "code",
   "execution_count": 19,
   "metadata": {},
   "outputs": [],
   "source": [
    "class Testing4(unittest.TestCase):\n",
    "    def test_fact(self):\n",
    "        cal = utils.Utils([3,4,5])\n",
    "        res = cal.factorial()\n",
    "        res_esp = [6, 24, 120]\n",
    "        self.assertEqual(res, res_esp)"
   ]
  },
  {
   "cell_type": "code",
   "execution_count": 20,
   "metadata": {},
   "outputs": [
    {
     "data": {
      "text/plain": [
       "<module 'utils' from '/home/juancml/Personal-Profesional/Python-Prep/M08_clasesyOOP/utils.py'>"
      ]
     },
     "execution_count": 20,
     "metadata": {},
     "output_type": "execute_result"
    }
   ],
   "source": [
    "importlib.reload(utils)"
   ]
  },
  {
   "cell_type": "code",
   "execution_count": 21,
   "metadata": {},
   "outputs": [
    {
     "name": "stderr",
     "output_type": "stream",
     "text": [
      "test_correctObj (__main__.Testing1.test_correctObj) ... ok\n",
      "test_masRep (__main__.Testing1.test_masRep) ... ok\n",
      "test_wrongObj (__main__.Testing1.test_wrongObj) ... ok\n",
      "test_prime (__main__.Testing2.test_prime) ... ok\n",
      "test_degrees (__main__.Testing3.test_degrees) ... ok\n",
      "test_fact (__main__.Testing4.test_fact) ... ok\n",
      "\n",
      "----------------------------------------------------------------------\n",
      "Ran 6 tests in 0.020s\n",
      "\n",
      "OK\n"
     ]
    },
    {
     "data": {
      "text/plain": [
       "<unittest.main.TestProgram at 0x7f667c7a1e50>"
      ]
     },
     "execution_count": 21,
     "metadata": {},
     "output_type": "execute_result"
    }
   ],
   "source": [
    "unittest.main(argv=[''], verbosity=2, exit=False)"
   ]
  }
 ],
 "metadata": {
  "interpreter": {
   "hash": "c85384e4cb51c8b72350f3a8712cc8351fdc3955e32a27f9b60c6242ab125f01"
  },
  "kernelspec": {
   "display_name": "Python 3 (ipykernel)",
   "language": "python",
   "name": "python3"
  },
  "language_info": {
   "codemirror_mode": {
    "name": "ipython",
    "version": 3
   },
   "file_extension": ".py",
   "mimetype": "text/x-python",
   "name": "python",
   "nbconvert_exporter": "python",
   "pygments_lexer": "ipython3",
   "version": "3.11.5"
  }
 },
 "nbformat": 4,
 "nbformat_minor": 4
}
